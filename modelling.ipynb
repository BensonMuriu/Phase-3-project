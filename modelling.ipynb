{
 "cells": [
  {
   "cell_type": "markdown",
   "metadata": {},
   "source": [
    "### Data preprocessing"
   ]
  },
  {
   "cell_type": "markdown",
   "metadata": {},
   "source": [
    "In this part, we will be making the data ready to feed the model. The model we will use to predict the data will be `Decision tree` , `logistic regression` and `Random forest`.<br>\n",
    "* Firstly we will change the data to simple categories using an sklearn tool called `Labelencoder`\n",
    "* We then split the data to `Training data` and `Test data`\n",
    "* Feed the data to the model and predict `status group`."
   ]
  },
  {
   "cell_type": "code",
   "execution_count": 26,
   "metadata": {},
   "outputs": [],
   "source": [
    "# import the previous notebook and all its contents\n",
    "\n",
    "from ipynb.fs.full.Index import * "
   ]
  },
  {
   "cell_type": "code",
   "execution_count": 3,
   "metadata": {},
   "outputs": [
    {
     "data": {
      "text/html": [
       "<div>\n",
       "<style scoped>\n",
       "    .dataframe tbody tr th:only-of-type {\n",
       "        vertical-align: middle;\n",
       "    }\n",
       "\n",
       "    .dataframe tbody tr th {\n",
       "        vertical-align: top;\n",
       "    }\n",
       "\n",
       "    .dataframe thead th {\n",
       "        text-align: right;\n",
       "    }\n",
       "</style>\n",
       "<table border=\"1\" class=\"dataframe\">\n",
       "  <thead>\n",
       "    <tr style=\"text-align: right;\">\n",
       "      <th></th>\n",
       "      <th>gps_height</th>\n",
       "      <th>installer</th>\n",
       "      <th>longitude</th>\n",
       "      <th>latitude</th>\n",
       "      <th>basin</th>\n",
       "      <th>region</th>\n",
       "      <th>population</th>\n",
       "      <th>public_meeting</th>\n",
       "      <th>permit</th>\n",
       "      <th>extraction_type_group</th>\n",
       "      <th>management</th>\n",
       "      <th>payment</th>\n",
       "      <th>water_quality</th>\n",
       "      <th>quantity</th>\n",
       "      <th>source</th>\n",
       "      <th>waterpoint_type</th>\n",
       "      <th>status_group</th>\n",
       "      <th>construction_year_bins</th>\n",
       "    </tr>\n",
       "  </thead>\n",
       "  <tbody>\n",
       "    <tr>\n",
       "      <th>0</th>\n",
       "      <td>1390</td>\n",
       "      <td>Roman</td>\n",
       "      <td>34.938093</td>\n",
       "      <td>-9.856322</td>\n",
       "      <td>Lake Nyasa</td>\n",
       "      <td>Iringa</td>\n",
       "      <td>109</td>\n",
       "      <td>True</td>\n",
       "      <td>False</td>\n",
       "      <td>gravity</td>\n",
       "      <td>vwc</td>\n",
       "      <td>pay annually</td>\n",
       "      <td>soft</td>\n",
       "      <td>enough</td>\n",
       "      <td>spring</td>\n",
       "      <td>communal standpipe</td>\n",
       "      <td>functional</td>\n",
       "      <td>(1990, 2000]</td>\n",
       "    </tr>\n",
       "    <tr>\n",
       "      <th>1</th>\n",
       "      <td>1399</td>\n",
       "      <td>GRUMETI</td>\n",
       "      <td>34.698766</td>\n",
       "      <td>-2.147466</td>\n",
       "      <td>Lake Victoria</td>\n",
       "      <td>Mara</td>\n",
       "      <td>280</td>\n",
       "      <td>False</td>\n",
       "      <td>True</td>\n",
       "      <td>gravity</td>\n",
       "      <td>wug</td>\n",
       "      <td>never pay</td>\n",
       "      <td>soft</td>\n",
       "      <td>insufficient</td>\n",
       "      <td>rainwater harvesting</td>\n",
       "      <td>communal standpipe</td>\n",
       "      <td>functional</td>\n",
       "      <td>(2000, 2010]</td>\n",
       "    </tr>\n",
       "    <tr>\n",
       "      <th>2</th>\n",
       "      <td>686</td>\n",
       "      <td>World vision</td>\n",
       "      <td>37.460664</td>\n",
       "      <td>-3.821329</td>\n",
       "      <td>Pangani</td>\n",
       "      <td>Manyara</td>\n",
       "      <td>250</td>\n",
       "      <td>True</td>\n",
       "      <td>True</td>\n",
       "      <td>gravity</td>\n",
       "      <td>vwc</td>\n",
       "      <td>pay per bucket</td>\n",
       "      <td>soft</td>\n",
       "      <td>enough</td>\n",
       "      <td>dam</td>\n",
       "      <td>communal standpipe multiple</td>\n",
       "      <td>functional</td>\n",
       "      <td>(2000, 2010]</td>\n",
       "    </tr>\n",
       "    <tr>\n",
       "      <th>3</th>\n",
       "      <td>263</td>\n",
       "      <td>UNICEF</td>\n",
       "      <td>38.486161</td>\n",
       "      <td>-11.155298</td>\n",
       "      <td>Ruvuma / Southern Coast</td>\n",
       "      <td>Mtwara</td>\n",
       "      <td>58</td>\n",
       "      <td>True</td>\n",
       "      <td>True</td>\n",
       "      <td>submersible</td>\n",
       "      <td>vwc</td>\n",
       "      <td>never pay</td>\n",
       "      <td>soft</td>\n",
       "      <td>dry</td>\n",
       "      <td>machine dbh</td>\n",
       "      <td>communal standpipe multiple</td>\n",
       "      <td>non functional</td>\n",
       "      <td>(1980, 1990]</td>\n",
       "    </tr>\n",
       "    <tr>\n",
       "      <th>4</th>\n",
       "      <td>0</td>\n",
       "      <td>Artisan</td>\n",
       "      <td>31.130847</td>\n",
       "      <td>-1.825359</td>\n",
       "      <td>Lake Victoria</td>\n",
       "      <td>Kagera</td>\n",
       "      <td>281</td>\n",
       "      <td>True</td>\n",
       "      <td>True</td>\n",
       "      <td>gravity</td>\n",
       "      <td>other</td>\n",
       "      <td>never pay</td>\n",
       "      <td>soft</td>\n",
       "      <td>seasonal</td>\n",
       "      <td>rainwater harvesting</td>\n",
       "      <td>communal standpipe</td>\n",
       "      <td>functional</td>\n",
       "      <td>(1990, 2000]</td>\n",
       "    </tr>\n",
       "    <tr>\n",
       "      <th>...</th>\n",
       "      <td>...</td>\n",
       "      <td>...</td>\n",
       "      <td>...</td>\n",
       "      <td>...</td>\n",
       "      <td>...</td>\n",
       "      <td>...</td>\n",
       "      <td>...</td>\n",
       "      <td>...</td>\n",
       "      <td>...</td>\n",
       "      <td>...</td>\n",
       "      <td>...</td>\n",
       "      <td>...</td>\n",
       "      <td>...</td>\n",
       "      <td>...</td>\n",
       "      <td>...</td>\n",
       "      <td>...</td>\n",
       "      <td>...</td>\n",
       "      <td>...</td>\n",
       "    </tr>\n",
       "    <tr>\n",
       "      <th>59395</th>\n",
       "      <td>1210</td>\n",
       "      <td>CES</td>\n",
       "      <td>37.169807</td>\n",
       "      <td>-3.253847</td>\n",
       "      <td>Pangani</td>\n",
       "      <td>Kilimanjaro</td>\n",
       "      <td>125</td>\n",
       "      <td>True</td>\n",
       "      <td>True</td>\n",
       "      <td>gravity</td>\n",
       "      <td>water board</td>\n",
       "      <td>pay per bucket</td>\n",
       "      <td>soft</td>\n",
       "      <td>enough</td>\n",
       "      <td>spring</td>\n",
       "      <td>communal standpipe</td>\n",
       "      <td>functional</td>\n",
       "      <td>(1990, 2000]</td>\n",
       "    </tr>\n",
       "    <tr>\n",
       "      <th>59396</th>\n",
       "      <td>1212</td>\n",
       "      <td>Cefa</td>\n",
       "      <td>35.249991</td>\n",
       "      <td>-9.070629</td>\n",
       "      <td>Rufiji</td>\n",
       "      <td>Iringa</td>\n",
       "      <td>56</td>\n",
       "      <td>True</td>\n",
       "      <td>True</td>\n",
       "      <td>gravity</td>\n",
       "      <td>vwc</td>\n",
       "      <td>pay annually</td>\n",
       "      <td>soft</td>\n",
       "      <td>enough</td>\n",
       "      <td>river</td>\n",
       "      <td>communal standpipe</td>\n",
       "      <td>functional</td>\n",
       "      <td>(1990, 2000]</td>\n",
       "    </tr>\n",
       "    <tr>\n",
       "      <th>59397</th>\n",
       "      <td>0</td>\n",
       "      <td>unknown</td>\n",
       "      <td>34.017087</td>\n",
       "      <td>-8.750434</td>\n",
       "      <td>Rufiji</td>\n",
       "      <td>Mbeya</td>\n",
       "      <td>281</td>\n",
       "      <td>True</td>\n",
       "      <td>False</td>\n",
       "      <td>swn 80</td>\n",
       "      <td>vwc</td>\n",
       "      <td>pay monthly</td>\n",
       "      <td>fluoride</td>\n",
       "      <td>enough</td>\n",
       "      <td>machine dbh</td>\n",
       "      <td>hand pump</td>\n",
       "      <td>functional</td>\n",
       "      <td>(1990, 2000]</td>\n",
       "    </tr>\n",
       "    <tr>\n",
       "      <th>59398</th>\n",
       "      <td>0</td>\n",
       "      <td>Musa</td>\n",
       "      <td>35.861315</td>\n",
       "      <td>-6.378573</td>\n",
       "      <td>Rufiji</td>\n",
       "      <td>Dodoma</td>\n",
       "      <td>281</td>\n",
       "      <td>True</td>\n",
       "      <td>True</td>\n",
       "      <td>nira/tanira</td>\n",
       "      <td>vwc</td>\n",
       "      <td>never pay</td>\n",
       "      <td>soft</td>\n",
       "      <td>insufficient</td>\n",
       "      <td>shallow well</td>\n",
       "      <td>hand pump</td>\n",
       "      <td>functional</td>\n",
       "      <td>(1990, 2000]</td>\n",
       "    </tr>\n",
       "    <tr>\n",
       "      <th>59399</th>\n",
       "      <td>191</td>\n",
       "      <td>World</td>\n",
       "      <td>38.104048</td>\n",
       "      <td>-6.747464</td>\n",
       "      <td>Wami / Ruvu</td>\n",
       "      <td>Morogoro</td>\n",
       "      <td>150</td>\n",
       "      <td>True</td>\n",
       "      <td>True</td>\n",
       "      <td>nira/tanira</td>\n",
       "      <td>vwc</td>\n",
       "      <td>pay when scheme fails</td>\n",
       "      <td>salty</td>\n",
       "      <td>enough</td>\n",
       "      <td>shallow well</td>\n",
       "      <td>hand pump</td>\n",
       "      <td>functional</td>\n",
       "      <td>(2000, 2010]</td>\n",
       "    </tr>\n",
       "  </tbody>\n",
       "</table>\n",
       "<p>59029 rows × 18 columns</p>\n",
       "</div>"
      ],
      "text/plain": [
       "       gps_height     installer  longitude   latitude  \\\n",
       "0            1390         Roman  34.938093  -9.856322   \n",
       "1            1399       GRUMETI  34.698766  -2.147466   \n",
       "2             686  World vision  37.460664  -3.821329   \n",
       "3             263        UNICEF  38.486161 -11.155298   \n",
       "4               0       Artisan  31.130847  -1.825359   \n",
       "...           ...           ...        ...        ...   \n",
       "59395        1210           CES  37.169807  -3.253847   \n",
       "59396        1212          Cefa  35.249991  -9.070629   \n",
       "59397           0       unknown  34.017087  -8.750434   \n",
       "59398           0          Musa  35.861315  -6.378573   \n",
       "59399         191         World  38.104048  -6.747464   \n",
       "\n",
       "                         basin       region  population  public_meeting  \\\n",
       "0                   Lake Nyasa       Iringa         109            True   \n",
       "1                Lake Victoria         Mara         280           False   \n",
       "2                      Pangani      Manyara         250            True   \n",
       "3      Ruvuma / Southern Coast       Mtwara          58            True   \n",
       "4                Lake Victoria       Kagera         281            True   \n",
       "...                        ...          ...         ...             ...   \n",
       "59395                  Pangani  Kilimanjaro         125            True   \n",
       "59396                   Rufiji       Iringa          56            True   \n",
       "59397                   Rufiji        Mbeya         281            True   \n",
       "59398                   Rufiji       Dodoma         281            True   \n",
       "59399              Wami / Ruvu     Morogoro         150            True   \n",
       "\n",
       "       permit extraction_type_group   management                payment  \\\n",
       "0       False               gravity          vwc           pay annually   \n",
       "1        True               gravity          wug              never pay   \n",
       "2        True               gravity          vwc         pay per bucket   \n",
       "3        True           submersible          vwc              never pay   \n",
       "4        True               gravity        other              never pay   \n",
       "...       ...                   ...          ...                    ...   \n",
       "59395    True               gravity  water board         pay per bucket   \n",
       "59396    True               gravity          vwc           pay annually   \n",
       "59397   False                swn 80          vwc            pay monthly   \n",
       "59398    True           nira/tanira          vwc              never pay   \n",
       "59399    True           nira/tanira          vwc  pay when scheme fails   \n",
       "\n",
       "      water_quality      quantity                source  \\\n",
       "0              soft        enough                spring   \n",
       "1              soft  insufficient  rainwater harvesting   \n",
       "2              soft        enough                   dam   \n",
       "3              soft           dry           machine dbh   \n",
       "4              soft      seasonal  rainwater harvesting   \n",
       "...             ...           ...                   ...   \n",
       "59395          soft        enough                spring   \n",
       "59396          soft        enough                 river   \n",
       "59397      fluoride        enough           machine dbh   \n",
       "59398          soft  insufficient          shallow well   \n",
       "59399         salty        enough          shallow well   \n",
       "\n",
       "                   waterpoint_type    status_group construction_year_bins  \n",
       "0               communal standpipe      functional           (1990, 2000]  \n",
       "1               communal standpipe      functional           (2000, 2010]  \n",
       "2      communal standpipe multiple      functional           (2000, 2010]  \n",
       "3      communal standpipe multiple  non functional           (1980, 1990]  \n",
       "4               communal standpipe      functional           (1990, 2000]  \n",
       "...                            ...             ...                    ...  \n",
       "59395           communal standpipe      functional           (1990, 2000]  \n",
       "59396           communal standpipe      functional           (1990, 2000]  \n",
       "59397                    hand pump      functional           (1990, 2000]  \n",
       "59398                    hand pump      functional           (1990, 2000]  \n",
       "59399                    hand pump      functional           (2000, 2010]  \n",
       "\n",
       "[59029 rows x 18 columns]"
      ]
     },
     "execution_count": 3,
     "metadata": {},
     "output_type": "execute_result"
    }
   ],
   "source": [
    "# display the data drame once more\n",
    "df"
   ]
  },
  {
   "cell_type": "code",
   "execution_count": 4,
   "metadata": {},
   "outputs": [],
   "source": [
    "#create a copy of the original df\n",
    "copy_df = df.copy()"
   ]
  },
  {
   "cell_type": "markdown",
   "metadata": {},
   "source": [
    "Convert data to numeric data.\n",
    "* `0` - functional<br>\n",
    "* `1` - functional needs repair\n",
    "* `2` - non-functional"
   ]
  },
  {
   "cell_type": "code",
   "execution_count": 5,
   "metadata": {},
   "outputs": [],
   "source": [
    "# transform the target to numeric data\n",
    "target = {'functional':0, \n",
    "                   'non functional': 2, \n",
    "                   'functional needs repair': 1} \n",
    "copy_df['status_group'] = copy_df['status_group'].replace(target)"
   ]
  },
  {
   "cell_type": "code",
   "execution_count": 6,
   "metadata": {},
   "outputs": [
    {
     "data": {
      "text/plain": [
       "0    32054\n",
       "2    22659\n",
       "1     4316\n",
       "Name: status_group, dtype: int64"
      ]
     },
     "execution_count": 6,
     "metadata": {},
     "output_type": "execute_result"
    }
   ],
   "source": [
    "# get the value counts to see if it transformed\n",
    "copy_df['status_group'].value_counts()"
   ]
  },
  {
   "cell_type": "markdown",
   "metadata": {},
   "source": [
    "Change the boolean columns to integers"
   ]
  },
  {
   "cell_type": "code",
   "execution_count": 7,
   "metadata": {},
   "outputs": [],
   "source": [
    "#changing from True/False to 0-1\n",
    "#convert True/False in public meeting column to 0-1\n",
    "copy_df['public_meeting'] = copy_df['public_meeting'].astype(bool).astype(int)\n",
    "#convert True/False in permit column to 0-1(boolean to int)\n",
    "copy_df['permit'] =copy_df['permit'].astype(bool).astype(int) "
   ]
  },
  {
   "cell_type": "markdown",
   "metadata": {},
   "source": [
    "##### Group the data to categorical and numerical data"
   ]
  },
  {
   "cell_type": "code",
   "execution_count": 8,
   "metadata": {},
   "outputs": [
    {
     "name": "stdout",
     "output_type": "stream",
     "text": [
      "<class 'pandas.core.frame.DataFrame'>\n",
      "Int64Index: 59029 entries, 0 to 59399\n",
      "Data columns (total 18 columns):\n",
      " #   Column                  Non-Null Count  Dtype   \n",
      "---  ------                  --------------  -----   \n",
      " 0   gps_height              59029 non-null  int64   \n",
      " 1   installer               59029 non-null  object  \n",
      " 2   longitude               59029 non-null  float64 \n",
      " 3   latitude                59029 non-null  float64 \n",
      " 4   basin                   59029 non-null  object  \n",
      " 5   region                  59029 non-null  object  \n",
      " 6   population              59029 non-null  int64   \n",
      " 7   public_meeting          59029 non-null  int64   \n",
      " 8   permit                  59029 non-null  int64   \n",
      " 9   extraction_type_group   59029 non-null  object  \n",
      " 10  management              59029 non-null  object  \n",
      " 11  payment                 59029 non-null  object  \n",
      " 12  water_quality           59029 non-null  object  \n",
      " 13  quantity                59029 non-null  object  \n",
      " 14  source                  59029 non-null  object  \n",
      " 15  waterpoint_type         59029 non-null  object  \n",
      " 16  status_group            59029 non-null  int64   \n",
      " 17  construction_year_bins  59029 non-null  category\n",
      "dtypes: category(1), float64(2), int64(5), object(10)\n",
      "memory usage: 10.7+ MB\n"
     ]
    }
   ],
   "source": [
    "copy_df.info()"
   ]
  },
  {
   "cell_type": "code",
   "execution_count": 9,
   "metadata": {},
   "outputs": [],
   "source": [
    "# categorical features placed in a variable  \n",
    "\n",
    "categorical_list = ['installer','basin','region','extraction_type_group','management','payment','water_quality','quantity',\n",
    "               'source','waterpoint_type','construction_year_bins']\n",
    "               \n",
    "numerical_list = ['gps_height','longitude','latitude','population','public_meeting',\n",
    "             'permit']"
   ]
  },
  {
   "cell_type": "code",
   "execution_count": 10,
   "metadata": {},
   "outputs": [
    {
     "data": {
      "text/plain": [
       "Index(['gps_height', 'installer', 'longitude', 'latitude', 'basin', 'region',\n",
       "       'population', 'public_meeting', 'permit', 'extraction_type_group',\n",
       "       'management', 'payment', 'water_quality', 'quantity', 'source',\n",
       "       'waterpoint_type', 'status_group', 'construction_year_bins'],\n",
       "      dtype='object')"
      ]
     },
     "execution_count": 10,
     "metadata": {},
     "output_type": "execute_result"
    }
   ],
   "source": [
    "copy_df.columns"
   ]
  },
  {
   "cell_type": "markdown",
   "metadata": {},
   "source": [
    "##### Converting Ternary to binary"
   ]
  },
  {
   "cell_type": "markdown",
   "metadata": {},
   "source": [
    "In our target variable, we will want to have only two variables. Considering some are fully `functional` , we will have them as `1`  and `0` for the one the ones that have probelems(`non-functional` and `functional need repair`)<br>\n",
    "* `1` - Functional\n",
    "* `0` - Has problems( needs repair and non-functional)"
   ]
  },
  {
   "cell_type": "code",
   "execution_count": 11,
   "metadata": {},
   "outputs": [],
   "source": [
    "# convert ternary classes to binary class\n",
    "status_group_dict = {0:1, 1: 0, 2 : 0}\n",
    "copy_df['status_group'] = copy_df['status_group'].replace(status_group_dict )"
   ]
  },
  {
   "cell_type": "code",
   "execution_count": 12,
   "metadata": {},
   "outputs": [
    {
     "data": {
      "text/plain": [
       "1    32054\n",
       "0    26975\n",
       "Name: status_group, dtype: int64"
      ]
     },
     "execution_count": 12,
     "metadata": {},
     "output_type": "execute_result"
    }
   ],
   "source": [
    "# Check to see the converted columns\n",
    "copy_df['status_group'].value_counts()"
   ]
  },
  {
   "cell_type": "markdown",
   "metadata": {},
   "source": [
    "##### Preprocessing"
   ]
  },
  {
   "cell_type": "markdown",
   "metadata": {},
   "source": [
    "Create a variable to hold the features(`X`) and another to hold the predicted `y`"
   ]
  },
  {
   "cell_type": "code",
   "execution_count": 13,
   "metadata": {},
   "outputs": [],
   "source": [
    "# create the target variable and the predictors in form of x and y\n",
    "X = copy_df.drop('status_group', axis=1)\n",
    "y = copy_df['status_group']"
   ]
  },
  {
   "cell_type": "markdown",
   "metadata": {},
   "source": [
    "Divide data into training and testing data"
   ]
  },
  {
   "cell_type": "code",
   "execution_count": 14,
   "metadata": {},
   "outputs": [],
   "source": [
    "#import required libraries\n",
    "from sklearn.model_selection import train_test_split\n",
    "# to divide our X and y to test and train\n",
    "X_train, X_test, y_train, y_test = train_test_split(X, y, test_size=0.2, random_state=42)"
   ]
  },
  {
   "cell_type": "markdown",
   "metadata": {},
   "source": [
    "Pipeline to simplify the order of steps for the models. This simplification is used in all models to make it simple by using columnTransformer, numeric transformer to scale the numeric datatypes and categorical transformer to encode categories to numbers"
   ]
  },
  {
   "cell_type": "code",
   "execution_count": 30,
   "metadata": {},
   "outputs": [],
   "source": [
    "# Import required libraries\n",
    "from sklearn.pipeline import make_pipeline, Pipeline\n",
    "from sklearn.impute import SimpleImputer\n",
    "from sklearn.preprocessing import OneHotEncoder\n",
    "from sklearn.preprocessing import RobustScaler\n",
    "from sklearn.compose import ColumnTransformer\n",
    "\n",
    "# Transform numeric features to categories using a scaler\n",
    "numeric_features=X_train.select_dtypes(include=['int64', 'float64']).columns\n",
    "numeric_transformer=Pipeline(steps=[\n",
    "    ('imputer',SimpleImputer(strategy='median')),\n",
    "    ('scaler',RobustScaler())])\n",
    "# Transform categorical features to numeric using an encoder\n",
    "categorical_features=X_train.select_dtypes(include=['object','category']).columns\n",
    "categorical_transformer=Pipeline(steps=[\n",
    "    ('imputer',SimpleImputer(strategy='constant',fill_value='missing')),\n",
    "    ('onehot',OneHotEncoder(handle_unknown='ignore'))])\n",
    "    \n",
    "# getting together our scaler and encoder with preprocessor\n",
    "preprocessor=ColumnTransformer(transformers=[\n",
    "    ('num',numeric_transformer,numeric_features),\n",
    "    ('cat',categorical_transformer,categorical_features)])"
   ]
  },
  {
   "cell_type": "markdown",
   "metadata": {},
   "source": [
    "### Modelling\n"
   ]
  },
  {
   "cell_type": "markdown",
   "metadata": {},
   "source": [
    "#### Logistic regression"
   ]
  },
  {
   "cell_type": "markdown",
   "metadata": {},
   "source": [
    "We use a classification model called logistic regression to try and predict the `status group`. We find the accuracy of the model using different hyperparameters by tuning."
   ]
  },
  {
   "cell_type": "markdown",
   "metadata": {},
   "source": [
    "##### Model 1"
   ]
  },
  {
   "cell_type": "code",
   "execution_count": 31,
   "metadata": {},
   "outputs": [
    {
     "name": "stdout",
     "output_type": "stream",
     "text": [
      "Accuracy:\n",
      "TRAIN: 0.7748131207250704\n",
      "TEST: 0.7686769439268168\n",
      "\n",
      "Balanced Accuracy:\n",
      "TRAIN: 0.7694738281776943\n",
      "TEST: 0.7641669623312926\n"
     ]
    }
   ],
   "source": [
    "from sklearn.linear_model import LogisticRegression\n",
    "from sklearn.metrics import accuracy_score, balanced_accuracy_score\n",
    "\n",
    "lr = Pipeline(steps=[('preprocessor', preprocessor),\n",
    "                      ('classifier', LogisticRegression(class_weight = 'balanced',\n",
    "                                                        solver = 'lbfgs', \n",
    "                                                        random_state=42))])\n",
    "\n",
    "# fit the model\n",
    "lr.fit(X_train,y_train)  \n",
    "\n",
    "# make predictions on training set\n",
    "y_pred = lr.predict(X_train)\n",
    "\n",
    "# make predictions on test set\n",
    "y_pred_test = lr.predict(X_test)\n",
    "\n",
    "print(\"Accuracy:\")\n",
    "print(f\"TRAIN: {accuracy_score(y_train, y_pred)}\")\n",
    "print(f\"TEST: {accuracy_score(y_test, y_pred_test)}\")\n",
    "\n",
    "print(\"\\nBalanced Accuracy:\")\n",
    "print(f\"TRAIN: {balanced_accuracy_score(y_train, y_pred)}\")\n",
    "print(f\"TEST: {balanced_accuracy_score(y_test, y_pred_test)}\")"
   ]
  },
  {
   "cell_type": "markdown",
   "metadata": {},
   "source": [
    "##### Model 2"
   ]
  },
  {
   "cell_type": "code",
   "execution_count": 39,
   "metadata": {},
   "outputs": [
    {
     "name": "stdout",
     "output_type": "stream",
     "text": [
      "Accuracy:\n",
      "TRAIN: 0.7789212883552507\n",
      "TEST: 0.7683381331526342\n",
      "\n",
      "Balanced Accuracy:\n",
      "TRAIN: 0.7738845694028077\n",
      "TEST: 0.7641549000802659\n"
     ]
    }
   ],
   "source": [
    "from sklearn.linear_model import LogisticRegression\n",
    "from sklearn.metrics import accuracy_score, balanced_accuracy_score\n",
    "\n",
    "lr = Pipeline(steps=[('preprocessor', preprocessor),\n",
    "                      ('classifier', LogisticRegression(class_weight = 'balanced',\n",
    "                                                        solver = 'liblinear', \n",
    "                                                        random_state=42))])\n",
    "\n",
    "# fit the model\n",
    "lr.fit(X_train,y_train)  \n",
    "\n",
    "# make predictions on training set\n",
    "y_pred = lr.predict(X_train)\n",
    "\n",
    "# make predictions on test set\n",
    "y_pred_test = lr.predict(X_test)\n",
    "\n",
    "print(\"Accuracy:\")\n",
    "print(f\"TRAIN: {accuracy_score(y_train, y_pred)}\")\n",
    "print(f\"TEST: {accuracy_score(y_test, y_pred_test)}\")\n",
    "\n",
    "print(\"\\nBalanced Accuracy:\")\n",
    "print(f\"TRAIN: {balanced_accuracy_score(y_train, y_pred)}\")\n",
    "print(f\"TEST: {balanced_accuracy_score(y_test, y_pred_test)}\")"
   ]
  },
  {
   "cell_type": "markdown",
   "metadata": {},
   "source": [
    "In logistic regression,we change the `solver` from lbfgs to liblinear. We find that the model accuracy decreases slightly. Our best solver would be lbfgs which uses algorithm l1. The best accuracy score is `76.87%`"
   ]
  },
  {
   "cell_type": "markdown",
   "metadata": {},
   "source": [
    "#### Random forest"
   ]
  },
  {
   "cell_type": "markdown",
   "metadata": {},
   "source": [
    "##### Model 3"
   ]
  },
  {
   "cell_type": "code",
   "execution_count": 21,
   "metadata": {},
   "outputs": [
    {
     "name": "stdout",
     "output_type": "stream",
     "text": [
      "Accuracy:\n",
      "TRAIN: 0.9954683099337187\n",
      "TEST: 0.8172115873284771\n",
      "\n",
      "Balanced Accuracy:\n",
      "TRAIN: 0.9952763421527655\n",
      "TEST: 0.8145186216771636\n"
     ]
    }
   ],
   "source": [
    "from sklearn.ensemble import RandomForestClassifier\n",
    "\n",
    "rf = Pipeline(steps=[('preprocessor', preprocessor),\n",
    "                      ('classifier', RandomForestClassifier(n_estimators=50,\n",
    "                                                            random_state=42, \n",
    "                                                            n_jobs=-1,\n",
    "                                                            class_weight='balanced'))])\n",
    "# fit the model\n",
    "rf.fit(X_train, y_train) \n",
    " \n",
    "# make predictions on training set\n",
    "y_pred = rf.predict(X_train)\n",
    "\n",
    "# make predictions on test set\n",
    "y_pred_test = rf.predict(X_test)\n",
    "\n",
    "print(\"Accuracy:\")\n",
    "print(f\"TRAIN: {accuracy_score(y_train, y_pred)}\")\n",
    "print(f\"TEST: {accuracy_score(y_test, y_pred_test)}\")\n",
    "\n",
    "print(\"\\nBalanced Accuracy:\")\n",
    "print(f\"TRAIN: {balanced_accuracy_score(y_train, y_pred)}\")\n",
    "print(f\"TEST: {balanced_accuracy_score(y_test, y_pred_test)}\")"
   ]
  },
  {
   "cell_type": "markdown",
   "metadata": {},
   "source": [
    "##### Model 4"
   ]
  },
  {
   "cell_type": "code",
   "execution_count": 38,
   "metadata": {},
   "outputs": [
    {
     "name": "stdout",
     "output_type": "stream",
     "text": [
      "Accuracy:\n",
      "TRAIN: 0.9961459458314804\n",
      "TEST: 0.8172962900220228\n",
      "\n",
      "Balanced Accuracy:\n",
      "TRAIN: 0.9959745871998389\n",
      "TEST: 0.8145089978476963\n"
     ]
    }
   ],
   "source": [
    "from sklearn.ensemble import RandomForestClassifier\n",
    "\n",
    "rf = Pipeline(steps=[('preprocessor', preprocessor),\n",
    "                      ('classifier', RandomForestClassifier(n_estimators=100,\n",
    "                                                            random_state=42, \n",
    "                                                            n_jobs=-1,\n",
    "                                                            class_weight='balanced'))])\n",
    "# fit the model\n",
    "rf.fit(X_train, y_train) \n",
    " \n",
    "# make predictions on training set\n",
    "y_pred = rf.predict(X_train)\n",
    "\n",
    "# make predictions on test set\n",
    "y_pred_test = rf.predict(X_test)\n",
    "\n",
    "print(\"Accuracy:\")\n",
    "print(f\"TRAIN: {accuracy_score(y_train, y_pred)}\")\n",
    "print(f\"TEST: {accuracy_score(y_test, y_pred_test)}\")\n",
    "\n",
    "print(\"\\nBalanced Accuracy:\")\n",
    "print(f\"TRAIN: {balanced_accuracy_score(y_train, y_pred)}\")\n",
    "print(f\"TEST: {balanced_accuracy_score(y_test, y_pred_test)}\")"
   ]
  },
  {
   "cell_type": "markdown",
   "metadata": {},
   "source": [
    "In Random Forest, we change the parameter on `n-estimators` from 50 to 100. This increases the run time and slightly overfits the model. The best parameters to use would be lower`n_estimators`. Our accuracy score would be `81.45%`"
   ]
  },
  {
   "cell_type": "markdown",
   "metadata": {},
   "source": [
    "#### Decision Trees"
   ]
  },
  {
   "cell_type": "markdown",
   "metadata": {},
   "source": [
    "##### Model 5"
   ]
  },
  {
   "cell_type": "code",
   "execution_count": 22,
   "metadata": {},
   "outputs": [
    {
     "name": "stdout",
     "output_type": "stream",
     "text": [
      "Accuracy:\n",
      "TRAIN: 0.7186116934544607\n",
      "TEST: 0.7115026257834999\n",
      "\n",
      "Balanced Accuracy:\n",
      "TRAIN: 0.6971731489875284\n",
      "TEST: 0.6934490001245183\n"
     ]
    }
   ],
   "source": [
    "from sklearn.tree import DecisionTreeClassifier\n",
    "\n",
    "dt = Pipeline(steps=[('preprocessor', preprocessor),\n",
    "                      ('classifier', DecisionTreeClassifier(criterion='entropy', \n",
    "                                                            max_depth=4, \n",
    "                                                            min_samples_leaf=5, \n",
    "                                                            random_state=42, \n",
    "                                                            class_weight='balanced'))])\n",
    "# fit the model\n",
    "dt.fit(X_train, y_train) \n",
    " \n",
    "# make predictions on training set\n",
    "y_pred = dt.predict(X_train)\n",
    "\n",
    "# make predictions on test set\n",
    "y_pred_test = dt.predict(X_test)\n",
    "\n",
    "print(\"Accuracy:\")\n",
    "print(f\"TRAIN: {accuracy_score(y_train, y_pred)}\")\n",
    "print(f\"TEST: {accuracy_score(y_test, y_pred_test)}\")\n",
    "\n",
    "print(\"\\nBalanced Accuracy:\")\n",
    "print(f\"TRAIN: {balanced_accuracy_score(y_train, y_pred)}\")\n",
    "print(f\"TEST: {balanced_accuracy_score(y_test, y_pred_test)}\")"
   ]
  },
  {
   "cell_type": "markdown",
   "metadata": {},
   "source": [
    "##### Model 6"
   ]
  },
  {
   "cell_type": "code",
   "execution_count": 37,
   "metadata": {},
   "outputs": [
    {
     "name": "stdout",
     "output_type": "stream",
     "text": [
      "Accuracy:\n",
      "TRAIN: 0.7188022785507062\n",
      "TEST: 0.7112485177028629\n",
      "\n",
      "Balanced Accuracy:\n",
      "TRAIN: 0.6973481577379659\n",
      "TEST: 0.6931745261995411\n"
     ]
    }
   ],
   "source": [
    "from sklearn.tree import DecisionTreeClassifier\n",
    "\n",
    "dt = Pipeline(steps=[('preprocessor', preprocessor),\n",
    "                      ('classifier', DecisionTreeClassifier(criterion='gini', \n",
    "                                                            max_depth=4, \n",
    "                                                            min_samples_leaf=5, \n",
    "                                                            random_state=42, \n",
    "                                                            class_weight='balanced'))])\n",
    "# fit the model\n",
    "dt.fit(X_train, y_train) \n",
    " \n",
    "# make predictions on training set\n",
    "y_pred = dt.predict(X_train)\n",
    "\n",
    "# make predictions on test set\n",
    "y_pred_test = dt.predict(X_test)\n",
    "\n",
    "print(\"Accuracy:\")\n",
    "print(f\"TRAIN: {accuracy_score(y_train, y_pred)}\")\n",
    "print(f\"TEST: {accuracy_score(y_test, y_pred_test)}\")\n",
    "\n",
    "print(\"\\nBalanced Accuracy:\")\n",
    "print(f\"TRAIN: {balanced_accuracy_score(y_train, y_pred)}\")\n",
    "print(f\"TEST: {balanced_accuracy_score(y_test, y_pred_test)}\")"
   ]
  },
  {
   "cell_type": "markdown",
   "metadata": {},
   "source": [
    "In decision trees classifier, we changed the criterion of choosing from entropy to gini. A Reduction in `max depth` or `min_sample_leaf` would mean we are trying to overfit the model. The best criterion to use is `Entropy` with an accuracy score of `69%`"
   ]
  },
  {
   "cell_type": "markdown",
   "metadata": {},
   "source": [
    "#### K-Nearest Neighbour"
   ]
  },
  {
   "cell_type": "code",
   "execution_count": 27,
   "metadata": {},
   "outputs": [
    {
     "name": "stdout",
     "output_type": "stream",
     "text": [
      "Accuracy:\n",
      "TRAIN: 0.9960188891006501\n",
      "TEST: 0.8023039132644418\n",
      "\n",
      "Balanced Accuracy:\n",
      "TRAIN: 0.995873113041984\n",
      "TEST: 0.7989217271008048\n"
     ]
    }
   ],
   "source": [
    "from sklearn.neighbors import KNeighborsClassifier\n",
    "\n",
    "k_n_n = Pipeline(steps=[('preprocessor', preprocessor),\n",
    "                      ('classifier', KNeighborsClassifier(metric='manhattan',\n",
    "                                                          n_neighbors=7,\n",
    "                                                          weights='distance'))])\n",
    "# fit the model\n",
    "k_n_n.fit(X_train, y_train) \n",
    " \n",
    "# make predictions on training set\n",
    "y_pred = k_n_n.predict(X_train)\n",
    "\n",
    "# make predictions on test set\n",
    "y_pred_test = k_n_n.predict(X_test)\n",
    "\n",
    "print(\"Accuracy:\")\n",
    "print(f\"TRAIN: {accuracy_score(y_train, y_pred)}\")\n",
    "print(f\"TEST: {accuracy_score(y_test, y_pred_test)}\")\n",
    "\n",
    "print(\"\\nBalanced Accuracy:\")\n",
    "print(f\"TRAIN: {balanced_accuracy_score(y_train, y_pred)}\")\n",
    "print(f\"TEST: {balanced_accuracy_score(y_test, y_pred_test)}\")"
   ]
  },
  {
   "cell_type": "markdown",
   "metadata": {},
   "source": [
    "In KNN the model has high accuracy score but the limitation is that it takes a lot of computational time making it expensive to run. In terms of accuracy, it would be the best, but its effeciency is not as good. The accuracy score is `79.89%`"
   ]
  },
  {
   "cell_type": "markdown",
   "metadata": {},
   "source": [
    "#### Choosing the best model\n"
   ]
  },
  {
   "cell_type": "markdown",
   "metadata": {},
   "source": [
    "In this part, we choose the best model to predict the status group. This model will use features i.e `['gps_height', 'installer', 'longitude', 'latitude', 'basin', 'region','population', 'public_meeting','permit','extraction_type_group','management', 'payment', 'water_quality', 'quantity', 'source','waterpoint_type','status_group', 'construction_year_bins']`. This features help to steer the model to predict which status group the waterpoint is in. Using this model, the NGO can predict the number of `functional` waterpoints and the waterpoints that `have problems` in order to know how to build better waterpoints"
   ]
  },
  {
   "cell_type": "code",
   "execution_count": 42,
   "metadata": {},
   "outputs": [
    {
     "data": {
      "text/html": [
       "<style>#sk-container-id-1 {color: black;background-color: white;}#sk-container-id-1 pre{padding: 0;}#sk-container-id-1 div.sk-toggleable {background-color: white;}#sk-container-id-1 label.sk-toggleable__label {cursor: pointer;display: block;width: 100%;margin-bottom: 0;padding: 0.3em;box-sizing: border-box;text-align: center;}#sk-container-id-1 label.sk-toggleable__label-arrow:before {content: \"▸\";float: left;margin-right: 0.25em;color: #696969;}#sk-container-id-1 label.sk-toggleable__label-arrow:hover:before {color: black;}#sk-container-id-1 div.sk-estimator:hover label.sk-toggleable__label-arrow:before {color: black;}#sk-container-id-1 div.sk-toggleable__content {max-height: 0;max-width: 0;overflow: hidden;text-align: left;background-color: #f0f8ff;}#sk-container-id-1 div.sk-toggleable__content pre {margin: 0.2em;color: black;border-radius: 0.25em;background-color: #f0f8ff;}#sk-container-id-1 input.sk-toggleable__control:checked~div.sk-toggleable__content {max-height: 200px;max-width: 100%;overflow: auto;}#sk-container-id-1 input.sk-toggleable__control:checked~label.sk-toggleable__label-arrow:before {content: \"▾\";}#sk-container-id-1 div.sk-estimator input.sk-toggleable__control:checked~label.sk-toggleable__label {background-color: #d4ebff;}#sk-container-id-1 div.sk-label input.sk-toggleable__control:checked~label.sk-toggleable__label {background-color: #d4ebff;}#sk-container-id-1 input.sk-hidden--visually {border: 0;clip: rect(1px 1px 1px 1px);clip: rect(1px, 1px, 1px, 1px);height: 1px;margin: -1px;overflow: hidden;padding: 0;position: absolute;width: 1px;}#sk-container-id-1 div.sk-estimator {font-family: monospace;background-color: #f0f8ff;border: 1px dotted black;border-radius: 0.25em;box-sizing: border-box;margin-bottom: 0.5em;}#sk-container-id-1 div.sk-estimator:hover {background-color: #d4ebff;}#sk-container-id-1 div.sk-parallel-item::after {content: \"\";width: 100%;border-bottom: 1px solid gray;flex-grow: 1;}#sk-container-id-1 div.sk-label:hover label.sk-toggleable__label {background-color: #d4ebff;}#sk-container-id-1 div.sk-serial::before {content: \"\";position: absolute;border-left: 1px solid gray;box-sizing: border-box;top: 0;bottom: 0;left: 50%;z-index: 0;}#sk-container-id-1 div.sk-serial {display: flex;flex-direction: column;align-items: center;background-color: white;padding-right: 0.2em;padding-left: 0.2em;position: relative;}#sk-container-id-1 div.sk-item {position: relative;z-index: 1;}#sk-container-id-1 div.sk-parallel {display: flex;align-items: stretch;justify-content: center;background-color: white;position: relative;}#sk-container-id-1 div.sk-item::before, #sk-container-id-1 div.sk-parallel-item::before {content: \"\";position: absolute;border-left: 1px solid gray;box-sizing: border-box;top: 0;bottom: 0;left: 50%;z-index: -1;}#sk-container-id-1 div.sk-parallel-item {display: flex;flex-direction: column;z-index: 1;position: relative;background-color: white;}#sk-container-id-1 div.sk-parallel-item:first-child::after {align-self: flex-end;width: 50%;}#sk-container-id-1 div.sk-parallel-item:last-child::after {align-self: flex-start;width: 50%;}#sk-container-id-1 div.sk-parallel-item:only-child::after {width: 0;}#sk-container-id-1 div.sk-dashed-wrapped {border: 1px dashed gray;margin: 0 0.4em 0.5em 0.4em;box-sizing: border-box;padding-bottom: 0.4em;background-color: white;}#sk-container-id-1 div.sk-label label {font-family: monospace;font-weight: bold;display: inline-block;line-height: 1.2em;}#sk-container-id-1 div.sk-label-container {text-align: center;}#sk-container-id-1 div.sk-container {/* jupyter's `normalize.less` sets `[hidden] { display: none; }` but bootstrap.min.css set `[hidden] { display: none !important; }` so we also need the `!important` here to be able to override the default hidden behavior on the sphinx rendered scikit-learn.org. See: https://github.com/scikit-learn/scikit-learn/issues/21755 */display: inline-block !important;position: relative;}#sk-container-id-1 div.sk-text-repr-fallback {display: none;}</style><div id=\"sk-container-id-1\" class=\"sk-top-container\"><div class=\"sk-text-repr-fallback\"><pre>Pipeline(steps=[(&#x27;preprocessor&#x27;,\n",
       "                 ColumnTransformer(transformers=[(&#x27;num&#x27;,\n",
       "                                                  Pipeline(steps=[(&#x27;imputer&#x27;,\n",
       "                                                                   SimpleImputer(strategy=&#x27;median&#x27;)),\n",
       "                                                                  (&#x27;scaler&#x27;,\n",
       "                                                                   RobustScaler())]),\n",
       "                                                  Index([&#x27;gps_height&#x27;, &#x27;longitude&#x27;, &#x27;latitude&#x27;, &#x27;population&#x27;, &#x27;public_meeting&#x27;,\n",
       "       &#x27;permit&#x27;],\n",
       "      dtype=&#x27;object&#x27;)),\n",
       "                                                 (&#x27;cat&#x27;,\n",
       "                                                  Pipeline(steps=[(&#x27;imputer&#x27;,\n",
       "                                                                   SimpleImputer(fill_value=&#x27;missing&#x27;,\n",
       "                                                                                 strategy=&#x27;constant&#x27;)),\n",
       "                                                                  (&#x27;onehot&#x27;,\n",
       "                                                                   OneHotEncoder(handle_unknown=&#x27;ignore&#x27;))]),\n",
       "                                                  Index([&#x27;installer&#x27;, &#x27;basin&#x27;, &#x27;region&#x27;, &#x27;extraction_type_group&#x27;, &#x27;management&#x27;,\n",
       "       &#x27;payment&#x27;, &#x27;water_quality&#x27;, &#x27;quantity&#x27;, &#x27;source&#x27;, &#x27;waterpoint_type&#x27;,\n",
       "       &#x27;construction_year_bins&#x27;],\n",
       "      dtype=&#x27;object&#x27;))])),\n",
       "                (&#x27;classifier&#x27;,\n",
       "                 RandomForestClassifier(class_weight=&#x27;balanced&#x27;, n_jobs=-1,\n",
       "                                        random_state=42))])</pre><b>In a Jupyter environment, please rerun this cell to show the HTML representation or trust the notebook. <br />On GitHub, the HTML representation is unable to render, please try loading this page with nbviewer.org.</b></div><div class=\"sk-container\" hidden><div class=\"sk-item sk-dashed-wrapped\"><div class=\"sk-label-container\"><div class=\"sk-label sk-toggleable\"><input class=\"sk-toggleable__control sk-hidden--visually\" id=\"sk-estimator-id-1\" type=\"checkbox\" ><label for=\"sk-estimator-id-1\" class=\"sk-toggleable__label sk-toggleable__label-arrow\">Pipeline</label><div class=\"sk-toggleable__content\"><pre>Pipeline(steps=[(&#x27;preprocessor&#x27;,\n",
       "                 ColumnTransformer(transformers=[(&#x27;num&#x27;,\n",
       "                                                  Pipeline(steps=[(&#x27;imputer&#x27;,\n",
       "                                                                   SimpleImputer(strategy=&#x27;median&#x27;)),\n",
       "                                                                  (&#x27;scaler&#x27;,\n",
       "                                                                   RobustScaler())]),\n",
       "                                                  Index([&#x27;gps_height&#x27;, &#x27;longitude&#x27;, &#x27;latitude&#x27;, &#x27;population&#x27;, &#x27;public_meeting&#x27;,\n",
       "       &#x27;permit&#x27;],\n",
       "      dtype=&#x27;object&#x27;)),\n",
       "                                                 (&#x27;cat&#x27;,\n",
       "                                                  Pipeline(steps=[(&#x27;imputer&#x27;,\n",
       "                                                                   SimpleImputer(fill_value=&#x27;missing&#x27;,\n",
       "                                                                                 strategy=&#x27;constant&#x27;)),\n",
       "                                                                  (&#x27;onehot&#x27;,\n",
       "                                                                   OneHotEncoder(handle_unknown=&#x27;ignore&#x27;))]),\n",
       "                                                  Index([&#x27;installer&#x27;, &#x27;basin&#x27;, &#x27;region&#x27;, &#x27;extraction_type_group&#x27;, &#x27;management&#x27;,\n",
       "       &#x27;payment&#x27;, &#x27;water_quality&#x27;, &#x27;quantity&#x27;, &#x27;source&#x27;, &#x27;waterpoint_type&#x27;,\n",
       "       &#x27;construction_year_bins&#x27;],\n",
       "      dtype=&#x27;object&#x27;))])),\n",
       "                (&#x27;classifier&#x27;,\n",
       "                 RandomForestClassifier(class_weight=&#x27;balanced&#x27;, n_jobs=-1,\n",
       "                                        random_state=42))])</pre></div></div></div><div class=\"sk-serial\"><div class=\"sk-item sk-dashed-wrapped\"><div class=\"sk-label-container\"><div class=\"sk-label sk-toggleable\"><input class=\"sk-toggleable__control sk-hidden--visually\" id=\"sk-estimator-id-2\" type=\"checkbox\" ><label for=\"sk-estimator-id-2\" class=\"sk-toggleable__label sk-toggleable__label-arrow\">preprocessor: ColumnTransformer</label><div class=\"sk-toggleable__content\"><pre>ColumnTransformer(transformers=[(&#x27;num&#x27;,\n",
       "                                 Pipeline(steps=[(&#x27;imputer&#x27;,\n",
       "                                                  SimpleImputer(strategy=&#x27;median&#x27;)),\n",
       "                                                 (&#x27;scaler&#x27;, RobustScaler())]),\n",
       "                                 Index([&#x27;gps_height&#x27;, &#x27;longitude&#x27;, &#x27;latitude&#x27;, &#x27;population&#x27;, &#x27;public_meeting&#x27;,\n",
       "       &#x27;permit&#x27;],\n",
       "      dtype=&#x27;object&#x27;)),\n",
       "                                (&#x27;cat&#x27;,\n",
       "                                 Pipeline(steps=[(&#x27;imputer&#x27;,\n",
       "                                                  SimpleImputer(fill_value=&#x27;missing&#x27;,\n",
       "                                                                strategy=&#x27;constant&#x27;)),\n",
       "                                                 (&#x27;onehot&#x27;,\n",
       "                                                  OneHotEncoder(handle_unknown=&#x27;ignore&#x27;))]),\n",
       "                                 Index([&#x27;installer&#x27;, &#x27;basin&#x27;, &#x27;region&#x27;, &#x27;extraction_type_group&#x27;, &#x27;management&#x27;,\n",
       "       &#x27;payment&#x27;, &#x27;water_quality&#x27;, &#x27;quantity&#x27;, &#x27;source&#x27;, &#x27;waterpoint_type&#x27;,\n",
       "       &#x27;construction_year_bins&#x27;],\n",
       "      dtype=&#x27;object&#x27;))])</pre></div></div></div><div class=\"sk-parallel\"><div class=\"sk-parallel-item\"><div class=\"sk-item\"><div class=\"sk-label-container\"><div class=\"sk-label sk-toggleable\"><input class=\"sk-toggleable__control sk-hidden--visually\" id=\"sk-estimator-id-3\" type=\"checkbox\" ><label for=\"sk-estimator-id-3\" class=\"sk-toggleable__label sk-toggleable__label-arrow\">num</label><div class=\"sk-toggleable__content\"><pre>Index([&#x27;gps_height&#x27;, &#x27;longitude&#x27;, &#x27;latitude&#x27;, &#x27;population&#x27;, &#x27;public_meeting&#x27;,\n",
       "       &#x27;permit&#x27;],\n",
       "      dtype=&#x27;object&#x27;)</pre></div></div></div><div class=\"sk-serial\"><div class=\"sk-item\"><div class=\"sk-serial\"><div class=\"sk-item\"><div class=\"sk-estimator sk-toggleable\"><input class=\"sk-toggleable__control sk-hidden--visually\" id=\"sk-estimator-id-4\" type=\"checkbox\" ><label for=\"sk-estimator-id-4\" class=\"sk-toggleable__label sk-toggleable__label-arrow\">SimpleImputer</label><div class=\"sk-toggleable__content\"><pre>SimpleImputer(strategy=&#x27;median&#x27;)</pre></div></div></div><div class=\"sk-item\"><div class=\"sk-estimator sk-toggleable\"><input class=\"sk-toggleable__control sk-hidden--visually\" id=\"sk-estimator-id-5\" type=\"checkbox\" ><label for=\"sk-estimator-id-5\" class=\"sk-toggleable__label sk-toggleable__label-arrow\">RobustScaler</label><div class=\"sk-toggleable__content\"><pre>RobustScaler()</pre></div></div></div></div></div></div></div></div><div class=\"sk-parallel-item\"><div class=\"sk-item\"><div class=\"sk-label-container\"><div class=\"sk-label sk-toggleable\"><input class=\"sk-toggleable__control sk-hidden--visually\" id=\"sk-estimator-id-6\" type=\"checkbox\" ><label for=\"sk-estimator-id-6\" class=\"sk-toggleable__label sk-toggleable__label-arrow\">cat</label><div class=\"sk-toggleable__content\"><pre>Index([&#x27;installer&#x27;, &#x27;basin&#x27;, &#x27;region&#x27;, &#x27;extraction_type_group&#x27;, &#x27;management&#x27;,\n",
       "       &#x27;payment&#x27;, &#x27;water_quality&#x27;, &#x27;quantity&#x27;, &#x27;source&#x27;, &#x27;waterpoint_type&#x27;,\n",
       "       &#x27;construction_year_bins&#x27;],\n",
       "      dtype=&#x27;object&#x27;)</pre></div></div></div><div class=\"sk-serial\"><div class=\"sk-item\"><div class=\"sk-serial\"><div class=\"sk-item\"><div class=\"sk-estimator sk-toggleable\"><input class=\"sk-toggleable__control sk-hidden--visually\" id=\"sk-estimator-id-7\" type=\"checkbox\" ><label for=\"sk-estimator-id-7\" class=\"sk-toggleable__label sk-toggleable__label-arrow\">SimpleImputer</label><div class=\"sk-toggleable__content\"><pre>SimpleImputer(fill_value=&#x27;missing&#x27;, strategy=&#x27;constant&#x27;)</pre></div></div></div><div class=\"sk-item\"><div class=\"sk-estimator sk-toggleable\"><input class=\"sk-toggleable__control sk-hidden--visually\" id=\"sk-estimator-id-8\" type=\"checkbox\" ><label for=\"sk-estimator-id-8\" class=\"sk-toggleable__label sk-toggleable__label-arrow\">OneHotEncoder</label><div class=\"sk-toggleable__content\"><pre>OneHotEncoder(handle_unknown=&#x27;ignore&#x27;)</pre></div></div></div></div></div></div></div></div></div></div><div class=\"sk-item\"><div class=\"sk-estimator sk-toggleable\"><input class=\"sk-toggleable__control sk-hidden--visually\" id=\"sk-estimator-id-9\" type=\"checkbox\" ><label for=\"sk-estimator-id-9\" class=\"sk-toggleable__label sk-toggleable__label-arrow\">RandomForestClassifier</label><div class=\"sk-toggleable__content\"><pre>RandomForestClassifier(class_weight=&#x27;balanced&#x27;, n_jobs=-1, random_state=42)</pre></div></div></div></div></div></div></div>"
      ],
      "text/plain": [
       "Pipeline(steps=[('preprocessor',\n",
       "                 ColumnTransformer(transformers=[('num',\n",
       "                                                  Pipeline(steps=[('imputer',\n",
       "                                                                   SimpleImputer(strategy='median')),\n",
       "                                                                  ('scaler',\n",
       "                                                                   RobustScaler())]),\n",
       "                                                  Index(['gps_height', 'longitude', 'latitude', 'population', 'public_meeting',\n",
       "       'permit'],\n",
       "      dtype='object')),\n",
       "                                                 ('cat',\n",
       "                                                  Pipeline(steps=[('imputer',\n",
       "                                                                   SimpleImputer(fill_value='missing',\n",
       "                                                                                 strategy='constant')),\n",
       "                                                                  ('onehot',\n",
       "                                                                   OneHotEncoder(handle_unknown='ignore'))]),\n",
       "                                                  Index(['installer', 'basin', 'region', 'extraction_type_group', 'management',\n",
       "       'payment', 'water_quality', 'quantity', 'source', 'waterpoint_type',\n",
       "       'construction_year_bins'],\n",
       "      dtype='object'))])),\n",
       "                ('classifier',\n",
       "                 RandomForestClassifier(class_weight='balanced', n_jobs=-1,\n",
       "                                        random_state=42))])"
      ]
     },
     "execution_count": 42,
     "metadata": {},
     "output_type": "execute_result"
    }
   ],
   "source": [
    "# Replace None with appropriate code\n",
    "best_model = Pipeline(steps=[('preprocessor', preprocessor),\n",
    "                      ('classifier', RandomForestClassifier(n_estimators=100,\n",
    "                                                            random_state=42, \n",
    "                                                            n_jobs=-1,\n",
    "                                                            class_weight='balanced'))])\n",
    "# fit the model\n",
    "best_model.fit(X_train, y_train) "
   ]
  },
  {
   "cell_type": "markdown",
   "metadata": {},
   "source": [
    "##### Confusion matrix"
   ]
  },
  {
   "cell_type": "code",
   "execution_count": 41,
   "metadata": {},
   "outputs": [
    {
     "data": {
      "image/png": "[encoded data removed]",
      "text/plain": [
       "<Figure size 432x288 with 2 Axes>"
      ]
     },
     "metadata": {
      "needs_background": "light"
     },
     "output_type": "display_data"
    }
   ],
   "source": [
    "# import required libraries\n",
    "from sklearn.metrics import confusion_matrix\n",
    "from sklearn.metrics import plot_confusion_matrix\n",
    "from sklearn.metrics import ConfusionMatrixDisplay\n",
    "\n",
    "#plot_confusion_matrix\n",
    "plot_confusion_matrix(rf, X_test, y_test)  \n",
    "plt.show()\n",
    "\n",
    "#ConfusionMatrixDisplay.from_predictions(y_test, y_pred_test)"
   ]
  },
  {
   "cell_type": "markdown",
   "metadata": {},
   "source": [
    "The confusion nmatrix shows that `938` waterpoints were wrongly classified under `having problems`  when they were in fact `functional`. <br>\n",
    "`1219` waterpoints were classififed under `functional` when they were in fact `having problems`<br>\n",
    "`5403` waterpoints were classified under `functional` when they were in fact `functional`<br>\n",
    "`4246` waterpoints were classified under `having problems` when they were in fact `having problems`"
   ]
  },
  {
   "cell_type": "code",
   "execution_count": 43,
   "metadata": {},
   "outputs": [
    {
     "name": "stdout",
     "output_type": "stream",
     "text": [
      "log loss:  0.5221893408183617\n",
      "accuracy:  0.7683381331526342\n",
      "precision: 0.7651470588235294\n",
      "recall:    0.8205330389528466\n"
     ]
    }
   ],
   "source": [
    "# Replace None with appropriate code\n",
    "from sklearn.metrics import accuracy_score, precision_score, recall_score, log_loss\n",
    "\n",
    "preds = best_model.predict(X_test)\n",
    "probs = best_model.predict_proba(X_test)\n",
    "\n",
    "\n",
    "print(\"log loss: \", log_loss(y_test, probs))\n",
    "print(\"accuracy: \", accuracy_score(y_test, y_pred_test))\n",
    "print(\"precision:\", precision_score(y_test, y_pred_test))\n",
    "print(\"recall:   \", recall_score(y_test, y_pred_test))"
   ]
  },
  {
   "cell_type": "markdown",
   "metadata": {},
   "source": [
    "##### Cross validation score\n"
   ]
  },
  {
   "cell_type": "code",
   "execution_count": 46,
   "metadata": {},
   "outputs": [
    {
     "name": "stdout",
     "output_type": "stream",
     "text": [
      "0.8942719049301294\n"
     ]
    }
   ],
   "source": [
    "#import required libraries\n",
    "from sklearn.model_selection import cross_val_score\n",
    "\n",
    "# Get the validation score\n",
    "scores = cross_val_score(best_model, X, y, cv=5, scoring='roc_auc')\n",
    "print(scores.mean())"
   ]
  }
 ],
 "metadata": {
  "kernelspec": {
   "display_name": "Python 3.8.5 ('learn-env')",
   "language": "python",
   "name": "python3"
  },
  "language_info": {
   "codemirror_mode": {
    "name": "ipython",
    "version": 3
   },
   "file_extension": ".py",
   "mimetype": "text/x-python",
   "name": "python",
   "nbconvert_exporter": "python",
   "pygments_lexer": "ipython3",
   "version": "3.8.5"
  },
  "orig_nbformat": 4,
  "vscode": {
   "interpreter": {
    "hash": "eb5053c72f5407e517467dfa6180270431126d28d8facf2e98fc4fe2a4e10b73"
   }
  }
 },
 "nbformat": 4,
 "nbformat_minor": 2
}
